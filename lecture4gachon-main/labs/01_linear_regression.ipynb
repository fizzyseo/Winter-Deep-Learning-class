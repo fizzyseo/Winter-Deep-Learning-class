{
 "cells": [
  {
   "cell_type": "code",
   "execution_count": null,
   "id": "d04e1364-d50a-4f7b-875d-252143b25217",
   "metadata": {},
   "outputs": [],
   "source": [
    "# Package 준비\n",
    "import torch\n",
    "from torch import nn\n",
    "from torch import optim"
   ]
  },
  {
   "cell_type": "code",
   "execution_count": null,
   "id": "66aa7d84",
   "metadata": {},
   "outputs": [],
   "source": [
    "# 데이터 준비\n",
    "a = 0.1\n",
    "b = 0.3\n",
    "\n",
    "x = torch.normal(0.0, 0.55, (10000, 1))\n",
    "y = a * x + b + torch.normal(0.0, 0.03, (10000, 1))"
   ]
  },
  {
   "cell_type": "code",
   "execution_count": null,
   "id": "43f33021-99e1-4512-aed2-8589fc4a863a",
   "metadata": {},
   "outputs": [],
   "source": [
    "# 딥러닝 모델 생성\n",
    "param = torch.randn(2, requires_grad=True)\n",
    "\n",
    "# class Model(nn.Module):\n",
    "#     def __init__(self):\n",
    "#         super(Model, self).__init__()\n",
    "#         self.linear = nn.Linear(1, 1)\n",
    "\n",
    "#     def forward(self, X):\n",
    "#         X = self.linear(X)\n",
    "#         return X\n",
    "\n",
    "# model = nn.Linear(1, 1) # https://pytorch.org/docs/stable/generated/torch.nn.Linear.html\n",
    "# model = Model()\n",
    "\n",
    "# param = list(model.parameters())     \n",
    "print(f\"Initial parameters\")\n",
    "print(f\"a: {param[0].item():.3f}, b: {param[1].item():.3f}\\n\")"
   ]
  },
  {
   "cell_type": "code",
   "execution_count": null,
   "id": "35ed59a4",
   "metadata": {},
   "outputs": [],
   "source": [
    "# 학습 방법 준비\n",
    "## 오차함수 \n",
    "## Greaidnet descent 알고리즘\n",
    "\n",
    "LEARNING_RATE = 0.05\n",
    "\n",
    "criterion  = nn.MSELoss()\n",
    "optimizer = optim.SGD([param], lr=LEARNING_RATE)\n",
    "# optimizer = optim.SGD(model.parameters(), lr=LEARNING_RATE)"
   ]
  },
  {
   "cell_type": "code",
   "execution_count": null,
   "id": "3399f5b5-1dc8-4c00-a1c4-654fe28ec9e5",
   "metadata": {},
   "outputs": [],
   "source": [
    "# Training loop\n",
    "print(\"Start training\")\n",
    "EPOCHS = 200\n",
    "for epoch in range(EPOCHS):\n",
    "    y_pred = param[0]*x + param[1]\n",
    "    # y_pred = model.forward(x)\n",
    "\n",
    "    loss = criterion(y_pred, y)\n",
    "\n",
    "    # Zero gradients, perform a backward pass, and update the weights.\n",
    "    optimizer.zero_grad()\n",
    "    loss.backward()\n",
    "    optimizer.step()\n",
    "\n",
    "\n",
    "    if (epoch == 0) or ((epoch+1) % 10 == 0):\n",
    "        # param = list(model.parameters())        \n",
    "        y_pred = param[0].detach() * x + param[1].detach()\n",
    "        print(f\"Epoch: {epoch+1}, Loss: {loss.data.numpy():.4f}, a: {param[0].item():.3f}, b: {param[1].item():.3f}\")"
   ]
  }
 ],
 "metadata": {
  "kernelspec": {
   "display_name": "Python 3 (ipykernel)",
   "language": "python",
   "name": "python3"
  },
  "language_info": {
   "codemirror_mode": {
    "name": "ipython",
    "version": 3
   },
   "file_extension": ".py",
   "mimetype": "text/x-python",
   "name": "python",
   "nbconvert_exporter": "python",
   "pygments_lexer": "ipython3",
   "version": "3.11.11"
  }
 },
 "nbformat": 4,
 "nbformat_minor": 5
}
