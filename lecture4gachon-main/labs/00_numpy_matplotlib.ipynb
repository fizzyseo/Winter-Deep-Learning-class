{
 "cells": [
  {
   "cell_type": "code",
   "execution_count": 1,
   "id": "2197563a-db40-43e8-8fbf-64f819a673cd",
   "metadata": {},
   "outputs": [],
   "source": [
    "import numpy as np"
   ]
  },
  {
   "cell_type": "code",
   "execution_count": 2,
   "id": "0e51f05f-66a4-4bb1-b2f0-5233eecb9709",
   "metadata": {},
   "outputs": [
    {
     "name": "stdout",
     "output_type": "stream",
     "text": [
      "x3 ndim:  3\n",
      "x3 shape: (3, 4, 5)\n",
      "x3 size:  60\n",
      "dtype: int64\n",
      "itemsize: 8 bytes\n",
      "nbytes: 480 bytes\n"
     ]
    }
   ],
   "source": [
    "# Create array\n",
    "x1 = np.random.randint(10, size=6)  # One-dimensional array\n",
    "x2 = np.random.randint(10, size=(3, 4))  # Two-dimensional array\n",
    "x3 = np.random.randint(10, size=(3, 4, 5))  # Three-dimensional array\n",
    "\n",
    "# Array attributes\n",
    "print(\"x3 ndim: \", x3.ndim)\n",
    "print(\"x3 shape:\", x3.shape)\n",
    "print(\"x3 size: \", x3.size)\n",
    "\n",
    "print(\"dtype:\", x3.dtype)\n",
    "\n",
    "print(\"itemsize:\", x3.itemsize, \"bytes\")\n",
    "print(\"nbytes:\", x3.nbytes, \"bytes\")"
   ]
  },
  {
   "cell_type": "code",
   "execution_count": 3,
   "id": "03bafe22-df70-4c4d-a770-3d915a6a5446",
   "metadata": {},
   "outputs": [
    {
     "name": "stdout",
     "output_type": "stream",
     "text": [
      "[5 6 6 9 1 4]\n",
      "5 1\n",
      "[[2 7 3 1]\n",
      " [9 0 8 1]\n",
      " [7 7 7 7]]\n",
      "2\n",
      "[[12  7  3  1]\n",
      " [ 9  0  8  1]\n",
      " [ 7  7  7  7]]\n"
     ]
    },
    {
     "data": {
      "text/plain": [
       "array([12,  7,  3,  1])"
      ]
     },
     "execution_count": 3,
     "metadata": {},
     "output_type": "execute_result"
    }
   ],
   "source": [
    "# 1-d Array indexing\n",
    "print(x1)\n",
    "print(x1[0], x1[4])\n",
    "\n",
    "# 2-d array indexing\n",
    "print(x2)\n",
    "print(x2[0, 0])\n",
    "\n",
    "# value assgin\n",
    "x2[0, 0] = 12\n",
    "print(x2)\n",
    "\n",
    "# array slicing\n",
    "x1[3:]\n",
    "x1[1:4]\n",
    "x1[::2]\n",
    "x1[1::2]\n",
    "x1[::-1]\n",
    "x1[4::-2]\n",
    "\n",
    "# Multi dimensional array\n",
    "x2[:2, :3]\n",
    "x2[:3, ::2]\n",
    "x2[::-1, ::-1]\n",
    "\n",
    "# row column\n",
    "x2[:, 0]\n",
    "x2[0, :]"
   ]
  },
  {
   "cell_type": "code",
   "execution_count": 4,
   "id": "0b579c17-8f65-401f-b465-48e75a1b2a8f",
   "metadata": {},
   "outputs": [
    {
     "name": "stdout",
     "output_type": "stream",
     "text": [
      "(64,)\n",
      "(8, 8)\n",
      "(4, 4, 4)\n",
      "(64,)\n",
      "(8, 8)\n",
      "(4, 4, 4)\n"
     ]
    }
   ],
   "source": [
    "# Reshape\n",
    "array = np.arange(64)\n",
    "matrix = np.reshape(array, (8, 8))\n",
    "cube = np.reshape(array, (4, 4, 4))\n",
    "print(array.shape)\n",
    "print(matrix.shape)\n",
    "print(cube.shape)\n",
    "\n",
    "array = np.arange(64)\n",
    "matrix = np.arange(64).reshape((8, 8))\n",
    "cube = np.arange(64).reshape((4, 4, 4))\n",
    "print(array.shape)\n",
    "print(matrix.shape)\n",
    "print(cube.shape)"
   ]
  },
  {
   "cell_type": "code",
   "execution_count": 5,
   "id": "f614409a-5e26-4698-84db-85614f013926",
   "metadata": {},
   "outputs": [
    {
     "data": {
      "text/plain": [
       "array([[ 9,  8,  7, 99],\n",
       "       [ 6,  5,  4, 99]])"
      ]
     },
     "execution_count": 5,
     "metadata": {},
     "output_type": "execute_result"
    }
   ],
   "source": [
    "# Concatenate\n",
    "# 1d array\n",
    "x = np.array([1, 2, 3])\n",
    "y = np.array([3, 2, 1])\n",
    "np.concatenate([x, y])\n",
    "\n",
    "# 2d array\n",
    "grid = np.array([[1, 2, 3],\n",
    "                 [4, 5, 6]])\n",
    "\n",
    "np.concatenate([grid, grid])\n",
    "np.concatenate([grid, grid], axis=1)\n",
    "\n",
    "# use stack\n",
    "x = np.array([1, 2, 3])\n",
    "grid = np.array([[9, 8, 7],\n",
    "                 [6, 5, 4]])\n",
    "\n",
    "# vertically stack the arrays\n",
    "np.vstack([x, grid])\n",
    "\n",
    "y = np.array([[99],\n",
    "              [99]])\n",
    "np.hstack([grid, y])"
   ]
  },
  {
   "cell_type": "code",
   "execution_count": 6,
   "id": "7656898f-e1ca-4473-b846-3b264b42f0a1",
   "metadata": {},
   "outputs": [
    {
     "name": "stdout",
     "output_type": "stream",
     "text": [
      "[1 2 3] [99 99] [3 2 1]\n",
      "[[0 1 2 3]\n",
      " [4 5 6 7]]\n",
      "[[ 8  9 10 11]\n",
      " [12 13 14 15]]\n",
      "[[ 0  1]\n",
      " [ 4  5]\n",
      " [ 8  9]\n",
      " [12 13]]\n",
      "[[ 2  3]\n",
      " [ 6  7]\n",
      " [10 11]\n",
      " [14 15]]\n"
     ]
    }
   ],
   "source": [
    "# Split\n",
    "# 1d array\n",
    "x = [1, 2, 3, 99, 99, 3, 2, 1]\n",
    "x1, x2, x3 = np.split(x, [3, 5])\n",
    "print(x1, x2, x3)\n",
    "\n",
    "# 2d array\n",
    "grid = np.arange(16).reshape((4, 4))\n",
    "\n",
    "upper, lower = np.vsplit(grid, [2])\n",
    "print(upper)\n",
    "print(lower)\n",
    "\n",
    "left, right = np.hsplit(grid, [2])\n",
    "print(left)\n",
    "print(right)"
   ]
  }
 ],
 "metadata": {
  "kernelspec": {
   "display_name": "Python 3 (ipykernel)",
   "language": "python",
   "name": "python3"
  },
  "language_info": {
   "codemirror_mode": {
    "name": "ipython",
    "version": 3
   },
   "file_extension": ".py",
   "mimetype": "text/x-python",
   "name": "python",
   "nbconvert_exporter": "python",
   "pygments_lexer": "ipython3",
   "version": "3.11.11"
  }
 },
 "nbformat": 4,
 "nbformat_minor": 5
}
